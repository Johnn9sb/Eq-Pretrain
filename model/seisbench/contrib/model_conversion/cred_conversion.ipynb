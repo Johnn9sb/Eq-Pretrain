{
 "cells": [
  {
   "cell_type": "markdown",
   "id": "22bb9e31",
   "metadata": {},
   "source": [
    "### This notebook was used to convert the original CRED weights to SeisBench and ensure binary compatibility. It is not intended for further use, but only serves as a reference"
   ]
  },
  {
   "cell_type": "code",
   "execution_count": 1,
   "id": "ec8b1392",
   "metadata": {},
   "outputs": [],
   "source": [
    "%load_ext autoreload\n",
    "%autoreload 2"
   ]
  },
  {
   "cell_type": "code",
   "execution_count": 2,
   "id": "8fa8c441",
   "metadata": {},
   "outputs": [
    {
     "name": "stderr",
     "output_type": "stream",
     "text": [
      "Using TensorFlow backend.\n"
     ]
    }
   ],
   "source": [
    "from seisbench.models import CRED\n",
    "import torch\n",
    "import torch.nn as nn\n",
    "import h5py\n",
    "import numpy as np\n",
    "import matplotlib.pyplot as plt\n",
    "import keras.backend as K\n",
    "import tensorflow as tf\n",
    "from keras.models import load_model\n",
    "import scipy.signal"
   ]
  },
  {
   "cell_type": "code",
   "execution_count": 3,
   "id": "2bdf6d76",
   "metadata": {},
   "outputs": [],
   "source": [
    "model = CRED(original_compatible=True)"
   ]
  },
  {
   "cell_type": "code",
   "execution_count": 4,
   "id": "eefadd1a",
   "metadata": {},
   "outputs": [
    {
     "name": "stdout",
     "output_type": "stream",
     "text": [
      "WARNING:tensorflow:Large dropout rate: 0.7 (>0.5). In TensorFlow 2.x, dropout() uses dropout rate instead of keep_prob. Please ensure that this is intended.\n",
      "WARNING:tensorflow:Large dropout rate: 0.7 (>0.5). In TensorFlow 2.x, dropout() uses dropout rate instead of keep_prob. Please ensure that this is intended.\n",
      "WARNING:tensorflow:Large dropout rate: 0.8 (>0.5). In TensorFlow 2.x, dropout() uses dropout rate instead of keep_prob. Please ensure that this is intended.\n",
      "WARNING:tensorflow:Large dropout rate: 0.8 (>0.5). In TensorFlow 2.x, dropout() uses dropout rate instead of keep_prob. Please ensure that this is intended.\n"
     ]
    }
   ],
   "source": [
    "tf_model = load_model('/home/munchmej/code/CRED/cred_original_outputs/final_model.h5')"
   ]
  },
  {
   "cell_type": "code",
   "execution_count": 5,
   "id": "25c0e71d",
   "metadata": {},
   "outputs": [
    {
     "name": "stdout",
     "output_type": "stream",
     "text": [
      "Model: \"model_1\"\n",
      "__________________________________________________________________________________________________\n",
      "Layer (type)                    Output Shape         Param #     Connected to                     \n",
      "==================================================================================================\n",
      "input (InputLayer)              (None, 151, 41, 3)   0                                            \n",
      "__________________________________________________________________________________________________\n",
      "conv2d_1 (Conv2D)               (None, 76, 21, 8)    1952        input[0][0]                      \n",
      "__________________________________________________________________________________________________\n",
      "batch_normalization_1 (BatchNor (None, 76, 21, 8)    32          conv2d_1[0][0]                   \n",
      "__________________________________________________________________________________________________\n",
      "activation_1 (Activation)       (None, 76, 21, 8)    0           batch_normalization_1[0][0]      \n",
      "__________________________________________________________________________________________________\n",
      "conv2d_2 (Conv2D)               (None, 76, 21, 8)    3144        activation_1[0][0]               \n",
      "__________________________________________________________________________________________________\n",
      "batch_normalization_2 (BatchNor (None, 76, 21, 8)    32          conv2d_2[0][0]                   \n",
      "__________________________________________________________________________________________________\n",
      "activation_2 (Activation)       (None, 76, 21, 8)    0           batch_normalization_2[0][0]      \n",
      "__________________________________________________________________________________________________\n",
      "conv2d_3 (Conv2D)               (None, 76, 21, 8)    3144        activation_2[0][0]               \n",
      "__________________________________________________________________________________________________\n",
      "add_1 (Add)                     (None, 76, 21, 8)    0           conv2d_3[0][0]                   \n",
      "                                                                 conv2d_1[0][0]                   \n",
      "__________________________________________________________________________________________________\n",
      "conv2d_4 (Conv2D)               (None, 38, 11, 16)   3216        add_1[0][0]                      \n",
      "__________________________________________________________________________________________________\n",
      "batch_normalization_3 (BatchNor (None, 38, 11, 16)   64          conv2d_4[0][0]                   \n",
      "__________________________________________________________________________________________________\n",
      "activation_3 (Activation)       (None, 38, 11, 16)   0           batch_normalization_3[0][0]      \n",
      "__________________________________________________________________________________________________\n",
      "conv2d_5 (Conv2D)               (None, 38, 11, 16)   2320        activation_3[0][0]               \n",
      "__________________________________________________________________________________________________\n",
      "batch_normalization_4 (BatchNor (None, 38, 11, 16)   64          conv2d_5[0][0]                   \n",
      "__________________________________________________________________________________________________\n",
      "activation_4 (Activation)       (None, 38, 11, 16)   0           batch_normalization_4[0][0]      \n",
      "__________________________________________________________________________________________________\n",
      "conv2d_6 (Conv2D)               (None, 38, 11, 16)   2320        activation_4[0][0]               \n",
      "__________________________________________________________________________________________________\n",
      "add_2 (Add)                     (None, 38, 11, 16)   0           conv2d_6[0][0]                   \n",
      "                                                                 conv2d_4[0][0]                   \n",
      "__________________________________________________________________________________________________\n",
      "reshape_1 (Reshape)             (None, 38, 176)      0           add_2[0][0]                      \n",
      "__________________________________________________________________________________________________\n",
      "bidirectional_1 (Bidirectional) (None, 38, 128)      123392      reshape_1[0][0]                  \n",
      "__________________________________________________________________________________________________\n",
      "dropout_1 (Dropout)             (None, 38, 128)      0           bidirectional_1[0][0]            \n",
      "__________________________________________________________________________________________________\n",
      "bidirectional_2 (Bidirectional) (None, 38, 128)      98816       dropout_1[0][0]                  \n",
      "__________________________________________________________________________________________________\n",
      "dropout_2 (Dropout)             (None, 38, 128)      0           bidirectional_2[0][0]            \n",
      "__________________________________________________________________________________________________\n",
      "add_3 (Add)                     (None, 38, 128)      0           dropout_1[0][0]                  \n",
      "                                                                 dropout_2[0][0]                  \n",
      "__________________________________________________________________________________________________\n",
      "lstm_3 (LSTM)                   (None, 38, 64)       49408       add_3[0][0]                      \n",
      "__________________________________________________________________________________________________\n",
      "dropout_3 (Dropout)             (None, 38, 64)       0           lstm_3[0][0]                     \n",
      "__________________________________________________________________________________________________\n",
      "batch_normalization_5 (BatchNor (None, 38, 64)       256         dropout_3[0][0]                  \n",
      "__________________________________________________________________________________________________\n",
      "time_distributed_1 (TimeDistrib (None, 38, 64)       4160        batch_normalization_5[0][0]      \n",
      "__________________________________________________________________________________________________\n",
      "batch_normalization_6 (BatchNor (None, 38, 64)       256         time_distributed_1[0][0]         \n",
      "__________________________________________________________________________________________________\n",
      "dropout_4 (Dropout)             (None, 38, 64)       0           batch_normalization_6[0][0]      \n",
      "__________________________________________________________________________________________________\n",
      "time_distributed_2 (TimeDistrib (None, 38, 1)        65          dropout_4[0][0]                  \n",
      "==================================================================================================\n",
      "Total params: 292,641\n",
      "Trainable params: 292,289\n",
      "Non-trainable params: 352\n",
      "__________________________________________________________________________________________________\n"
     ]
    }
   ],
   "source": [
    "tf_model.summary()"
   ]
  },
  {
   "cell_type": "code",
   "execution_count": 6,
   "id": "225c6f5e",
   "metadata": {},
   "outputs": [],
   "source": [
    "tf_state_dict = {x.name: x.numpy() for x in tf_model.weights}"
   ]
  },
  {
   "cell_type": "code",
   "execution_count": 7,
   "id": "cd0a52b1",
   "metadata": {},
   "outputs": [
    {
     "name": "stdout",
     "output_type": "stream",
     "text": [
      "conv1.weight (8, 3, 9, 9)\n",
      "conv1.bias (8,)\n",
      "cnn_block1.convs.0.weight (8, 8, 7, 7)\n",
      "cnn_block1.convs.0.bias (8,)\n",
      "cnn_block1.convs.1.weight (8, 8, 7, 7)\n",
      "cnn_block1.convs.1.bias (8,)\n",
      "cnn_block1.norms.0.weight (8,)\n",
      "cnn_block1.norms.0.bias (8,)\n",
      "cnn_block1.norms.0.running_mean (8,)\n",
      "cnn_block1.norms.0.running_var (8,)\n",
      "cnn_block1.norms.0.num_batches_tracked ()\n",
      "cnn_block1.norms.1.weight (8,)\n",
      "cnn_block1.norms.1.bias (8,)\n",
      "cnn_block1.norms.1.running_mean (8,)\n",
      "cnn_block1.norms.1.running_var (8,)\n",
      "cnn_block1.norms.1.num_batches_tracked ()\n",
      "conv2.weight (16, 8, 5, 5)\n",
      "conv2.bias (16,)\n",
      "cnn_block2.convs.0.weight (16, 16, 3, 3)\n",
      "cnn_block2.convs.0.bias (16,)\n",
      "cnn_block2.convs.1.weight (16, 16, 3, 3)\n",
      "cnn_block2.convs.1.bias (16,)\n",
      "cnn_block2.norms.0.weight (16,)\n",
      "cnn_block2.norms.0.bias (16,)\n",
      "cnn_block2.norms.0.running_mean (16,)\n",
      "cnn_block2.norms.0.running_var (16,)\n",
      "cnn_block2.norms.0.num_batches_tracked ()\n",
      "cnn_block2.norms.1.weight (16,)\n",
      "cnn_block2.norms.1.bias (16,)\n",
      "cnn_block2.norms.1.running_mean (16,)\n",
      "cnn_block2.norms.1.running_var (16,)\n",
      "cnn_block2.norms.1.num_batches_tracked ()\n",
      "lstm_block.lstms.0.weight_ih_l0 (256, 176)\n",
      "lstm_block.lstms.0.weight_hh_l0 (256, 64)\n",
      "lstm_block.lstms.0.bias_ih_l0 (256,)\n",
      "lstm_block.lstms.0.bias_hh_l0 (256,)\n",
      "lstm_block.lstms.0.weight_ih_l0_reverse (256, 176)\n",
      "lstm_block.lstms.0.weight_hh_l0_reverse (256, 64)\n",
      "lstm_block.lstms.0.bias_ih_l0_reverse (256,)\n",
      "lstm_block.lstms.0.bias_hh_l0_reverse (256,)\n",
      "lstm_block.lstms.1.weight_ih_l0 (256, 128)\n",
      "lstm_block.lstms.1.weight_hh_l0 (256, 64)\n",
      "lstm_block.lstms.1.bias_ih_l0 (256,)\n",
      "lstm_block.lstms.1.bias_hh_l0 (256,)\n",
      "lstm_block.lstms.1.weight_ih_l0_reverse (256, 128)\n",
      "lstm_block.lstms.1.weight_hh_l0_reverse (256, 64)\n",
      "lstm_block.lstms.1.bias_ih_l0_reverse (256,)\n",
      "lstm_block.lstms.1.bias_hh_l0_reverse (256,)\n",
      "lstm.weight_ih_l0 (256, 128)\n",
      "lstm.weight_hh_l0 (256, 64)\n",
      "lstm.bias_ih_l0 (256,)\n",
      "lstm.bias_hh_l0 (256,)\n",
      "norm1.weight (64,)\n",
      "norm1.bias (64,)\n",
      "norm1.running_mean (64,)\n",
      "norm1.running_var (64,)\n",
      "norm1.num_batches_tracked ()\n",
      "fc1.weight (64, 64)\n",
      "fc1.bias (64,)\n",
      "norm2.weight (64,)\n",
      "norm2.bias (64,)\n",
      "norm2.running_mean (64,)\n",
      "norm2.running_var (64,)\n",
      "norm2.num_batches_tracked ()\n",
      "fc2.weight (1, 64)\n",
      "fc2.bias (1,)\n"
     ]
    }
   ],
   "source": [
    "for key, val in model.state_dict().items():\n",
    "    print(key, tuple(val.shape))"
   ]
  },
  {
   "cell_type": "code",
   "execution_count": 8,
   "id": "98e30c59",
   "metadata": {},
   "outputs": [
    {
     "name": "stdout",
     "output_type": "stream",
     "text": [
      "conv2d_1/kernel:0 (9, 9, 3, 8)\n",
      "conv2d_1/bias:0 (8,)\n",
      "batch_normalization_1/gamma:0 (8,)\n",
      "batch_normalization_1/beta:0 (8,)\n",
      "conv2d_2/kernel:0 (7, 7, 8, 8)\n",
      "conv2d_2/bias:0 (8,)\n",
      "batch_normalization_2/gamma:0 (8,)\n",
      "batch_normalization_2/beta:0 (8,)\n",
      "conv2d_3/kernel:0 (7, 7, 8, 8)\n",
      "conv2d_3/bias:0 (8,)\n",
      "conv2d_4/kernel:0 (5, 5, 8, 16)\n",
      "conv2d_4/bias:0 (16,)\n",
      "batch_normalization_3/gamma:0 (16,)\n",
      "batch_normalization_3/beta:0 (16,)\n",
      "conv2d_5/kernel:0 (3, 3, 16, 16)\n",
      "conv2d_5/bias:0 (16,)\n",
      "batch_normalization_4/gamma:0 (16,)\n",
      "batch_normalization_4/beta:0 (16,)\n",
      "conv2d_6/kernel:0 (3, 3, 16, 16)\n",
      "conv2d_6/bias:0 (16,)\n",
      "bidirectional_1/forward_lstm_1/kernel:0 (176, 256)\n",
      "bidirectional_1/forward_lstm_1/recurrent_kernel:0 (64, 256)\n",
      "bidirectional_1/forward_lstm_1/bias:0 (256,)\n",
      "bidirectional_1/backward_lstm_1/kernel:0 (176, 256)\n",
      "bidirectional_1/backward_lstm_1/recurrent_kernel:0 (64, 256)\n",
      "bidirectional_1/backward_lstm_1/bias:0 (256,)\n",
      "bidirectional_2/forward_lstm_2/kernel:0 (128, 256)\n",
      "bidirectional_2/forward_lstm_2/recurrent_kernel:0 (64, 256)\n",
      "bidirectional_2/forward_lstm_2/bias:0 (256,)\n",
      "bidirectional_2/backward_lstm_2/kernel:0 (128, 256)\n",
      "bidirectional_2/backward_lstm_2/recurrent_kernel:0 (64, 256)\n",
      "bidirectional_2/backward_lstm_2/bias:0 (256,)\n",
      "lstm_3/kernel:0 (128, 256)\n",
      "lstm_3/recurrent_kernel:0 (64, 256)\n",
      "lstm_3/bias:0 (256,)\n",
      "batch_normalization_5/gamma:0 (64,)\n",
      "batch_normalization_5/beta:0 (64,)\n",
      "time_distributed_1/kernel:0 (64, 64)\n",
      "time_distributed_1/bias:0 (64,)\n",
      "batch_normalization_6/gamma:0 (64,)\n",
      "batch_normalization_6/beta:0 (64,)\n",
      "time_distributed_2/kernel:0 (64, 1)\n",
      "time_distributed_2/bias:0 (1,)\n",
      "batch_normalization_1/moving_mean:0 (8,)\n",
      "batch_normalization_1/moving_variance:0 (8,)\n",
      "batch_normalization_2/moving_mean:0 (8,)\n",
      "batch_normalization_2/moving_variance:0 (8,)\n",
      "batch_normalization_3/moving_mean:0 (16,)\n",
      "batch_normalization_3/moving_variance:0 (16,)\n",
      "batch_normalization_4/moving_mean:0 (16,)\n",
      "batch_normalization_4/moving_variance:0 (16,)\n",
      "batch_normalization_5/moving_mean:0 (64,)\n",
      "batch_normalization_5/moving_variance:0 (64,)\n",
      "batch_normalization_6/moving_mean:0 (64,)\n",
      "batch_normalization_6/moving_variance:0 (64,)\n"
     ]
    }
   ],
   "source": [
    "for key, val in tf_state_dict.items():\n",
    "    print(key, val.shape)"
   ]
  },
  {
   "cell_type": "code",
   "execution_count": 9,
   "id": "7958f910",
   "metadata": {},
   "outputs": [],
   "source": [
    "new_state_dict = {}"
   ]
  },
  {
   "cell_type": "code",
   "execution_count": 10,
   "id": "0a54726e",
   "metadata": {},
   "outputs": [],
   "source": [
    "# Copy separate convs\n",
    "\n",
    "# For input layer, resort channels from ENZ to ZNE\n",
    "new_state_dict['conv1.weight'] = np.transpose(tf_state_dict[\"conv2d_1/kernel:0\"], (3, 2, 0, 1))[:, [2, 1, 0]]\n",
    "new_state_dict['conv1.bias'] = tf_state_dict[\"conv2d_1/bias:0\"]\n",
    "\n",
    "new_state_dict['conv2.weight'] = np.transpose(tf_state_dict[\"conv2d_4/kernel:0\"], (3, 2, 0, 1))\n",
    "new_state_dict['conv2.bias'] = tf_state_dict[\"conv2d_4/bias:0\"]"
   ]
  },
  {
   "cell_type": "code",
   "execution_count": 11,
   "id": "28631370",
   "metadata": {},
   "outputs": [],
   "source": [
    "# Copy CNN blocks\n",
    "\n",
    "norm_dict = {'weight': 'gamma',\n",
    "             'bias': 'beta',\n",
    "             'running_mean': 'moving_mean',\n",
    "             'running_var': 'moving_variance'}\n",
    "\n",
    "for i, cnn_block in enumerate([model.cnn_block1, model.cnn_block2]):\n",
    "    for key in cnn_block.state_dict():\n",
    "        layer, layer_id, t = key.split('.')\n",
    "        \n",
    "        layer_id = int(layer_id)\n",
    "        \n",
    "        if layer == \"convs\":\n",
    "            source = f\"conv2d_{2 + 3 * i + layer_id}\"\n",
    "            if t == \"weight\":\n",
    "                data = np.transpose(tf_state_dict[f\"{source}/kernel:0\"], (3, 2, 0, 1))\n",
    "            elif t == \"bias\":\n",
    "                data = tf_state_dict[f\"{source}/bias:0\"]\n",
    "        elif layer == \"norms\":\n",
    "            if t == 'num_batches_tracked':\n",
    "                data = cnn_block.state_dict()[key]\n",
    "            else:\n",
    "                source = f\"batch_normalization_{1 + 2 * i + layer_id}/{norm_dict[t]}:0\"\n",
    "                data = tf_state_dict[source]\n",
    "        else:\n",
    "            raise ValueError(\"Unknown layer\")\n",
    "        \n",
    "        new_state_dict[f\"cnn_block{i+1}.{key}\"] = data"
   ]
  },
  {
   "cell_type": "code",
   "execution_count": 12,
   "id": "b05d1016",
   "metadata": {},
   "outputs": [],
   "source": [
    "# Copy LSTM block\n",
    "\n",
    "for key in model.lstm_block.state_dict():\n",
    "    _, layer_id, t = key.split('.')\n",
    "    layer_id = int(layer_id)\n",
    "    \n",
    "    if t.endswith(\"reverse\"):\n",
    "        direction = \"backward\"\n",
    "    else:\n",
    "        direction = \"forward\"\n",
    "    \n",
    "    source = f\"bidirectional_{1 + layer_id}/{direction}_lstm_{1 + layer_id}/\"\n",
    "    \n",
    "    if t.startswith(\"weight_ih\"):\n",
    "        data = tf_state_dict[source + \"kernel:0\"].T\n",
    "    elif t.startswith(\"weight_hh\"):\n",
    "        data = tf_state_dict[source + \"recurrent_kernel:0\"].T\n",
    "    elif t.startswith(\"bias_hh\"):\n",
    "        data = 0.5 * tf_state_dict[source + \"bias:0\"]\n",
    "    else:\n",
    "        # bias_ih\n",
    "        data = 0.5 * tf_state_dict[source + \"bias:0\"]\n",
    "        \n",
    "    new_state_dict[f\"lstm_block.{key}\"] = data"
   ]
  },
  {
   "cell_type": "code",
   "execution_count": 13,
   "id": "9437ae49",
   "metadata": {},
   "outputs": [],
   "source": [
    "# Copy LSTM\n",
    "\n",
    "for key in model.lstm.state_dict():\n",
    "    source = \"lstm_3/\"\n",
    "    t = key\n",
    "    \n",
    "    if t.startswith(\"weight_ih\"):\n",
    "        data = tf_state_dict[source + \"kernel:0\"].T\n",
    "    elif t.startswith(\"weight_hh\"):\n",
    "        data = tf_state_dict[source + \"recurrent_kernel:0\"].T\n",
    "    elif t.startswith(\"bias_hh\"):\n",
    "        data = 0.5 * tf_state_dict[source + \"bias:0\"]\n",
    "    else:\n",
    "        # bias_ih\n",
    "        data = 0.5 * tf_state_dict[source + \"bias:0\"]\n",
    "    \n",
    "    new_state_dict[f\"lstm.{key}\"] = data"
   ]
  },
  {
   "cell_type": "code",
   "execution_count": 14,
   "id": "8ee364d9",
   "metadata": {},
   "outputs": [],
   "source": [
    "# Copy separate batch norms\n",
    "\n",
    "for norm, org_source, i in [(model.norm1, \"batch_normalization_5\", 1), (model.norm2, \"batch_normalization_6\", 2)]:\n",
    "    for key in norm.state_dict():\n",
    "        t = key\n",
    "        if t == 'num_batches_tracked':\n",
    "            data = norm.state_dict()[key]\n",
    "        else:\n",
    "            source = f\"{org_source}/{norm_dict[t]}:0\"\n",
    "            data = tf_state_dict[source]\n",
    "\n",
    "        new_state_dict[f\"norm{i}.{key}\"] = data"
   ]
  },
  {
   "cell_type": "code",
   "execution_count": 15,
   "id": "1df1500b",
   "metadata": {},
   "outputs": [],
   "source": [
    "# Copy dense layers\n",
    "\n",
    "new_state_dict['fc1.weight'] = tf_state_dict[\"time_distributed_1/kernel:0\"].T\n",
    "new_state_dict['fc1.bias'] = tf_state_dict[\"time_distributed_1/bias:0\"]\n",
    "\n",
    "new_state_dict['fc2.weight'] = tf_state_dict[\"time_distributed_2/kernel:0\"].T\n",
    "new_state_dict['fc2.bias'] = tf_state_dict[\"time_distributed_2/bias:0\"]"
   ]
  },
  {
   "cell_type": "code",
   "execution_count": 16,
   "id": "ba7ce80e",
   "metadata": {},
   "outputs": [],
   "source": [
    "for key in new_state_dict.keys():\n",
    "    if model.state_dict()[key].shape != new_state_dict[key].shape:\n",
    "        print(key, model.state_dict()[key].shape, new_state_dict[key].shape)"
   ]
  },
  {
   "cell_type": "code",
   "execution_count": 17,
   "id": "4e2b2ff4",
   "metadata": {},
   "outputs": [],
   "source": [
    "assert len(new_state_dict) == len(model.state_dict())"
   ]
  },
  {
   "cell_type": "code",
   "execution_count": 18,
   "id": "e19d4f6b",
   "metadata": {},
   "outputs": [
    {
     "name": "stderr",
     "output_type": "stream",
     "text": [
      "/home/munchmej/anaconda3/envs/eqtransformer/lib/python3.7/site-packages/ipykernel_launcher.py:2: UserWarning: To copy construct from a tensor, it is recommended to use sourceTensor.clone().detach() or sourceTensor.clone().detach().requires_grad_(True), rather than torch.tensor(sourceTensor).\n",
      "  \n"
     ]
    }
   ],
   "source": [
    "for key in new_state_dict.keys():\n",
    "    new_state_dict[key] = torch.tensor(new_state_dict[key])"
   ]
  },
  {
   "cell_type": "code",
   "execution_count": 19,
   "id": "d09695b1",
   "metadata": {},
   "outputs": [
    {
     "data": {
      "text/plain": [
       "<All keys matched successfully>"
      ]
     },
     "execution_count": 19,
     "metadata": {},
     "output_type": "execute_result"
    }
   ],
   "source": [
    "model.load_state_dict(new_state_dict)"
   ]
  },
  {
   "cell_type": "code",
   "execution_count": 31,
   "id": "66f18eb1",
   "metadata": {},
   "outputs": [],
   "source": [
    "torch.save(model.state_dict(), \"/home/munchmej/.seisbench/models/cred/original.pt\")"
   ]
  },
  {
   "cell_type": "code",
   "execution_count": 20,
   "id": "cd073a49",
   "metadata": {},
   "outputs": [],
   "source": [
    "with h5py.File(\"/home/munchmej/code/EQTransformer/ModelsAndSampleData/100samples.hdf5\", \"r\") as f:\n",
    "    wv = f['data']['109C.TA_20060723155859_EV'][()]\n",
    "    \n",
    "wv -= np.mean(wv, axis=-1, keepdims=True)\n",
    "wv /= np.amax(wv)\n",
    "wv = wv.T"
   ]
  },
  {
   "cell_type": "code",
   "execution_count": 21,
   "id": "3d4590be",
   "metadata": {
    "scrolled": true
   },
   "outputs": [
    {
     "data": {
      "text/plain": [
       "(3, 6000)"
      ]
     },
     "execution_count": 21,
     "metadata": {},
     "output_type": "execute_result"
    }
   ],
   "source": [
    "wv.shape"
   ]
  },
  {
   "cell_type": "code",
   "execution_count": 22,
   "id": "d64a988b",
   "metadata": {},
   "outputs": [],
   "source": [
    "f, t, z = scipy.signal.stft(wv, fs = 100, nperseg=80)\n",
    "z = np.transpose(np.abs(z), (0, 2, 1))\n",
    "z = z.reshape((1,) + z.shape)"
   ]
  },
  {
   "cell_type": "code",
   "execution_count": 23,
   "id": "66c1e839",
   "metadata": {},
   "outputs": [
    {
     "data": {
      "text/plain": [
       "(1, 3, 151, 41)"
      ]
     },
     "execution_count": 23,
     "metadata": {},
     "output_type": "execute_result"
    }
   ],
   "source": [
    "z.shape"
   ]
  },
  {
   "cell_type": "code",
   "execution_count": 24,
   "id": "7d6b0b85",
   "metadata": {},
   "outputs": [],
   "source": [
    "# With a Keras function\n",
    "get_all_layer_outputs = K.function([tf_model.layers[0].input] + [K.learning_phase()],\n",
    "                                   [l.output for l in tf_model.layers])\n",
    "\n",
    "layer_output = get_all_layer_outputs([np.transpose(z, (0, 2, 3, 1))] + [0]) # return the same thing\n",
    "layer_names = [x.name for x in tf_model.layers]"
   ]
  },
  {
   "cell_type": "code",
   "execution_count": 25,
   "id": "0108cc8e",
   "metadata": {},
   "outputs": [
    {
     "name": "stdout",
     "output_type": "stream",
     "text": [
      "conv2d_4\n"
     ]
    }
   ],
   "source": [
    "layer_idx = 9\n",
    "print(layer_names[layer_idx])"
   ]
  },
  {
   "cell_type": "code",
   "execution_count": 26,
   "id": "4dcbc094",
   "metadata": {},
   "outputs": [],
   "source": [
    "model.eval()\n",
    "with torch.no_grad():\n",
    "    out = model(torch.tensor(z[:, [2, 1, 0]], dtype=torch.float32))\n",
    "out = out.numpy()"
   ]
  },
  {
   "cell_type": "code",
   "execution_count": 27,
   "id": "af85ebd4",
   "metadata": {},
   "outputs": [
    {
     "data": {
      "text/plain": [
       "[<matplotlib.lines.Line2D at 0x7f3c38488ed0>,\n",
       " <matplotlib.lines.Line2D at 0x7f3c382f5a50>,\n",
       " <matplotlib.lines.Line2D at 0x7f3c382214d0>]"
      ]
     },
     "execution_count": 27,
     "metadata": {},
     "output_type": "execute_result"
    },
    {
     "data": {
      "image/png": "[encoded data removed]",
      "text/plain": [
       "<Figure size 432x288 with 1 Axes>"
      ]
     },
     "metadata": {
      "needs_background": "light"
     },
     "output_type": "display_data"
    }
   ],
   "source": [
    "plt.plot(wv.T)"
   ]
  },
  {
   "cell_type": "code",
   "execution_count": 36,
   "id": "638a44b8",
   "metadata": {},
   "outputs": [
    {
     "data": {
      "text/plain": [
       "[<matplotlib.lines.Line2D at 0x7f3c336d6190>]"
      ]
     },
     "execution_count": 36,
     "metadata": {},
     "output_type": "execute_result"
    },
    {
     "data": {
      "image/png": "[encoded data removed]",
      "text/plain": [
       "<Figure size 432x288 with 1 Axes>"
      ]
     },
     "metadata": {
      "needs_background": "light"
     },
     "output_type": "display_data"
    }
   ],
   "source": [
    "plt.plot(layer_output[-1][0, :, 0])\n",
    "plt.plot(out[0, :, 0])"
   ]
  },
  {
   "cell_type": "code",
   "execution_count": 34,
   "id": "87159a4a",
   "metadata": {},
   "outputs": [
    {
     "data": {
      "text/plain": [
       "1.7881393e-07"
      ]
     },
     "execution_count": 34,
     "metadata": {},
     "output_type": "execute_result"
    }
   ],
   "source": [
    "np.max(np.abs(layer_output[-1][0, :, 0] - out[0, :, 0]))"
   ]
  },
  {
   "cell_type": "code",
   "execution_count": null,
   "id": "0854d738",
   "metadata": {},
   "outputs": [],
   "source": []
  }
 ],
 "metadata": {
  "kernelspec": {
   "display_name": "Python 3",
   "language": "python",
   "name": "python3"
  },
  "language_info": {
   "codemirror_mode": {
    "name": "ipython",
    "version": 3
   },
   "file_extension": ".py",
   "mimetype": "text/x-python",
   "name": "python",
   "nbconvert_exporter": "python",
   "pygments_lexer": "ipython3",
   "version": "3.7.10"
  }
 },
 "nbformat": 4,
 "nbformat_minor": 5
}
