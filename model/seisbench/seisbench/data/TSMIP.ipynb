{
 "cells": [
  {
   "cell_type": "code",
   "execution_count": 1,
   "id": "economic-apparatus",
   "metadata": {},
   "outputs": [
    {
     "name": "stderr",
     "output_type": "stream",
     "text": [
      "/mnt/nas4/weiwei/.pyenv/versions/SeisBench/lib/python3.9/site-packages/tqdm/auto.py:22: TqdmWarning: IProgress not found. Please update jupyter and ipywidgets. See https://ipywidgets.readthedocs.io/en/stable/user_install.html\n",
      "  from .autonotebook import tqdm as notebook_tqdm\n"
     ]
    }
   ],
   "source": [
    "import seisbench\n",
    "import seisbench.util\n",
    "from base import BenchmarkDataset, WaveformDataWriter\n",
    "\n",
    "from pathlib import Path\n",
    "import h5py\n",
    "import pandas as pd\n",
    "import numpy as np"
   ]
  },
  {
   "cell_type": "markdown",
   "id": "emerging-antigua",
   "metadata": {},
   "source": [
    "### TSMIP (目前只用 2020 為例)"
   ]
  },
  {
   "cell_type": "code",
   "execution_count": 2,
   "id": "found-target",
   "metadata": {},
   "outputs": [],
   "source": [
    "class TSMIP(BenchmarkDataset):\n",
    "    \n",
    "    def __init__(self, **kwargs):\n",
    "        # ======================= #\n",
    "        # TODO: citation, license #\n",
    "        # ======================= #\n",
    "        citation = ()\n",
    "        license = \"\"\n",
    "        super().__init__(citation=citation, license=license, **kwargs)\n",
    "    \n",
    "    def _download_dataset(self, writer: WaveformDataWriter, basepath=None, **kwargs):\n",
    "        path = self.path\n",
    "        \n",
    "        # TSMIP: containing 2011~2020\n",
    "        years = [str(y) for y in range(2011, 2021)]\n",
    "        \n",
    "        if basepath is None:\n",
    "            raise ValueError(\n",
    "                \"No cached version of TSMIP found. \"\n",
    "            )\n",
    "\n",
    "        basepath = Path(basepath)\n",
    "        \n",
    "        # ========================== #\n",
    "        # TODO: 檢查有沒有十年份的資料 #\n",
    "        # ========================== #\n",
    "        if not (basepath / \"metadata_2020.csv\").is_file():\n",
    "            raise ValueError(\n",
    "                \"Basepath does not contain file metadata_2020.csv. \"\n",
    "            )\n",
    "        if not (basepath / \"chunks_2020.hdf5\").is_file():\n",
    "            raise ValueError(\n",
    "                \"Basepath does not contain file chunks_2020.hdf5. \"\n",
    "            )\n",
    "            \n",
    "        # Data format\n",
    "        writer.data_format = {\n",
    "            \"dimension_order\": \"CW\",\n",
    "            \"component_order\": \"ZNE\",\n",
    "            \"sampling_rate\": 200,\n",
    "            \"measurement\": \"acceleration\",\n",
    "            \"unit\": \"cmps2\",\n",
    "        }\n",
    "        # ============================================= #\n",
    "        # TODO: 之後上傳檔案到網路上後，新增下載方式的 code\n",
    "        # ============================================= #\n",
    "    \n",
    "        total_trace = 0\n",
    "        for y in years:\n",
    "            print('years: ', y)\n",
    "            # Loading metadata (ex. 2020)，之後一次 load 所有年份的資料進來\n",
    "            meta_path = 'metadata_' + y + '.csv'\n",
    "            metadata = pd.read_csv(basepath / meta_path)\n",
    "\n",
    "            metadata['split'] = self.set_split(y)\n",
    "\n",
    "            # Adding traces (ex. 2020)，之後一次 load 所有年份的資料進來\n",
    "            hdf5_path = 'chunks_' + y + '.hdf5'\n",
    "            with h5py.File(basepath / hdf5_path) as f:\n",
    "                gdata = f[\"data\"]\n",
    "                for _, row in metadata.iterrows():\n",
    "                    row = row.to_dict()\n",
    "                    \n",
    "                    # Adding trace only when waveform is available\n",
    "                    if row['trace_completeness'] == 1:\n",
    "                        waveforms = gdata[row[\"trace_name\"]][()]\n",
    "    \n",
    "                        writer.add_trace(row, waveforms)\n",
    "                        total_trace += 1\n",
    "            \n",
    "        # Total number of traces\n",
    "        writer.set_total(total_trace)\n",
    "        \n",
    "    @staticmethod\n",
    "    def set_split(year):\n",
    "        if year == '2020':\n",
    "            return 'dev'\n",
    "        elif year == '2019':\n",
    "            return \"test\"\n",
    "        else:\n",
    "            return 'train'\n",
    "        \n",
    "    # ==================================================== #\n",
    "    # TODO: function -> 只選一個 trace 只包含一個事件的 case #\n",
    "    # ==================================================== #\n",
    "    \n",
    "    # ======================================= #\n",
    "    # TODO: 依照 trace_name，去依照事件來 load #\n",
    "    # ======================================= #"
   ]
  },
  {
   "cell_type": "code",
   "execution_count": 3,
   "id": "positive-direction",
   "metadata": {},
   "outputs": [
    {
     "name": "stderr",
     "output_type": "stream",
     "text": [
      "2022-07-05 14:54:50,497 | seisbench | WARNING | Dataset TSMIP not in cache.\n",
      "2022-07-05 14:54:50,499 | seisbench | WARNING | Dataset TSMIP not in SeisBench repository. Starting download and conversion from source.\n"
     ]
    },
    {
     "name": "stdout",
     "output_type": "stream",
     "text": [
      "years:  2011\n"
     ]
    },
    {
     "name": "stderr",
     "output_type": "stream",
     "text": [
      "Traces converted: 3662it [00:03, 1111.70it/s]"
     ]
    },
    {
     "name": "stdout",
     "output_type": "stream",
     "text": [
      "years:  2012\n"
     ]
    },
    {
     "name": "stderr",
     "output_type": "stream",
     "text": [
      "Traces converted: 8898it [00:11, 529.16it/s] "
     ]
    },
    {
     "name": "stdout",
     "output_type": "stream",
     "text": [
      "years:  2013\n"
     ]
    },
    {
     "name": "stderr",
     "output_type": "stream",
     "text": [
      "Traces converted: 15782it [00:22, 900.02it/s] "
     ]
    },
    {
     "name": "stdout",
     "output_type": "stream",
     "text": [
      "years:  2014\n"
     ]
    },
    {
     "name": "stderr",
     "output_type": "stream",
     "text": [
      "Traces converted: 21935it [00:35, 676.37it/s] "
     ]
    },
    {
     "name": "stdout",
     "output_type": "stream",
     "text": [
      "years:  2015\n"
     ]
    },
    {
     "name": "stderr",
     "output_type": "stream",
     "text": [
      "Traces converted: 31636it [00:54, 759.42it/s] "
     ]
    },
    {
     "name": "stdout",
     "output_type": "stream",
     "text": [
      "years:  2016\n"
     ]
    },
    {
     "name": "stderr",
     "output_type": "stream",
     "text": [
      "Traces converted: 43835it [01:21, 892.08it/s] "
     ]
    },
    {
     "name": "stdout",
     "output_type": "stream",
     "text": [
      "years:  2017\n"
     ]
    },
    {
     "name": "stderr",
     "output_type": "stream",
     "text": [
      "Traces converted: 50766it [01:39, 419.46it/s] "
     ]
    },
    {
     "name": "stdout",
     "output_type": "stream",
     "text": [
      "years:  2018\n"
     ]
    },
    {
     "name": "stderr",
     "output_type": "stream",
     "text": [
      "Traces converted: 68767it [02:21, 1054.33it/s]"
     ]
    },
    {
     "name": "stdout",
     "output_type": "stream",
     "text": [
      "years:  2019\n"
     ]
    },
    {
     "name": "stderr",
     "output_type": "stream",
     "text": [
      "Traces converted: 79813it [06:50, 231.30it/s] "
     ]
    },
    {
     "name": "stdout",
     "output_type": "stream",
     "text": [
      "years:  2020\n"
     ]
    },
    {
     "name": "stderr",
     "output_type": "stream",
     "text": [
      "Traces converted: 100%|███████████████████████████████████████████████████████████████████████████████████████████████████████████████████████████████████| 85917/85917 [09:03<00:00, 158.16it/s]\n",
      "2022-07-05 15:03:54,667 | seisbench | WARNING | Inconsistent sampling rates between metadata and data_format. Using values from metadata.\n",
      "2022-07-05 15:03:54,669 | seisbench | WARNING | Data set contains mixed sampling rate, but no sampling rate was specified for the dataset.get_waveforms will return mixed sampling rate waveforms.\n"
     ]
    }
   ],
   "source": [
    "kwargs={'download_kwargs': {'basepath': '/mnt/nas2/TSMIP/seisbench/'}}\n",
    "data = TSMIP(**kwargs)"
   ]
  },
  {
   "cell_type": "markdown",
   "id": "spatial-reynolds",
   "metadata": {},
   "source": [
    "### 測試區"
   ]
  },
  {
   "cell_type": "code",
   "execution_count": 16,
   "id": "billion-jacket",
   "metadata": {},
   "outputs": [],
   "source": [
    "import matplotlib.pyplot as plt"
   ]
  },
  {
   "cell_type": "code",
   "execution_count": 6,
   "id": "accessory-sight",
   "metadata": {},
   "outputs": [],
   "source": [
    "train, dev, test = data.train(), data.dev(), data.test()"
   ]
  },
  {
   "cell_type": "code",
   "execution_count": 17,
   "id": "protecting-serbia",
   "metadata": {},
   "outputs": [
    {
     "data": {
      "text/plain": [
       "[<matplotlib.lines.Line2D at 0x7ff0c21a9310>,\n",
       " <matplotlib.lines.Line2D at 0x7ff0c21a9370>,\n",
       " <matplotlib.lines.Line2D at 0x7ff0c21a9490>]"
      ]
     },
     "execution_count": 17,
     "metadata": {},
     "output_type": "execute_result"
    },
    {
     "data": {
      "image/png": "[encoded data removed]",
      "text/plain": [
       "<Figure size 432x288 with 1 Axes>"
      ]
     },
     "metadata": {
      "needs_background": "light"
     },
     "output_type": "display_data"
    }
   ],
   "source": [
    "wave = train.get_waveforms(0)\n",
    "plt.plot(wave.T)"
   ]
  },
  {
   "cell_type": "code",
   "execution_count": null,
   "id": "amateur-trouble",
   "metadata": {},
   "outputs": [],
   "source": []
  }
 ],
 "metadata": {
  "kernelspec": {
   "display_name": "SeisBench",
   "language": "python",
   "name": "seisbench"
  },
  "language_info": {
   "codemirror_mode": {
    "name": "ipython",
    "version": 3
   },
   "file_extension": ".py",
   "mimetype": "text/x-python",
   "name": "python",
   "nbconvert_exporter": "python",
   "pygments_lexer": "ipython3",
   "version": "3.9.0"
  }
 },
 "nbformat": 4,
 "nbformat_minor": 5
}
