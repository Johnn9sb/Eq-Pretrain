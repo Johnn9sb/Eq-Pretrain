{
 "cells": [
  {
   "cell_type": "code",
   "execution_count": 1,
   "id": "thrown-panama",
   "metadata": {},
   "outputs": [
    {
     "name": "stderr",
     "output_type": "stream",
     "text": [
      "/mnt/nas4/weiwei/.pyenv/versions/SeisBench/lib/python3.9/site-packages/tqdm/auto.py:22: TqdmWarning: IProgress not found. Please update jupyter and ipywidgets. See https://ipywidgets.readthedocs.io/en/stable/user_install.html\n",
      "  from .autonotebook import tqdm as notebook_tqdm\n"
     ]
    }
   ],
   "source": [
    "import seisbench\n",
    "import seisbench.util\n",
    "from base import BenchmarkDataset, WaveformDataWriter\n",
    "\n",
    "from pathlib import Path\n",
    "import h5py\n",
    "import pandas as pd\n",
    "import numpy as np"
   ]
  },
  {
   "cell_type": "markdown",
   "id": "immune-width",
   "metadata": {},
   "source": [
    "### CWBSN (目前只用 2020 為例)"
   ]
  },
  {
   "cell_type": "code",
   "execution_count": 2,
   "id": "premium-illustration",
   "metadata": {},
   "outputs": [],
   "source": [
    "class CWBSN(BenchmarkDataset):\n",
    "    \n",
    "    def __init__(self, **kwargs):\n",
    "        # ======================= #\n",
    "        # TODO: citation, license #\n",
    "        # ======================= #\n",
    "        citation = ()\n",
    "        license = \"\"\n",
    "        super().__init__(citation=citation, license=license, **kwargs)\n",
    "    \n",
    "    def _download_dataset(self, writer: WaveformDataWriter, basepath=None, **kwargs):\n",
    "        path = self.path\n",
    "        \n",
    "        # CWBSN: containing 2012~2021\n",
    "#         years = [str(y) for y in range(2012, 2022)]\n",
    "        years = ['2020']\n",
    "        \n",
    "        if basepath is None:\n",
    "            raise ValueError(\n",
    "                \"No cached version of CWBSN found. \"\n",
    "            )\n",
    "\n",
    "        basepath = Path(basepath)\n",
    "\n",
    "        # ========================== #\n",
    "        # TODO: 檢查有沒有十年份的資料 #\n",
    "        # ========================== #\n",
    "        if not (basepath / \"metadata_2020.csv\").is_file():\n",
    "            raise ValueError(\n",
    "                \"Basepath does not contain file metadata_2020.csv. \"\n",
    "            )\n",
    "        if not (basepath / \"chunks_2020.hdf5\").is_file():\n",
    "            raise ValueError(\n",
    "                \"Basepath does not contain file chunks_2020.hdf5. \"\n",
    "            )\n",
    "            \n",
    "        # Data format\n",
    "        writer.data_format = {\n",
    "            \"dimension_order\": \"CW\",\n",
    "            \"component_order\": \"ZNE\",\n",
    "            \"sampling_rate\": 100,\n",
    "            \"measurement\": \"velocity/acceleration\",\n",
    "            \"unit\": \"cmps/cmps2\",\n",
    "        }\n",
    "        # ============================================= #\n",
    "        # TODO: 之後上傳檔案到網路上後，新增下載方式的 code\n",
    "        # ============================================= #\n",
    "    \n",
    "        # =============================================== #\n",
    "        # TODO: 統計 2012~2021 的 metadata 總共有幾個 rows: \n",
    "        #         writer.set_total(len(metadata))         #\n",
    "        # =============================================== #\n",
    "    \n",
    "        total_trace = 0\n",
    "        for y in years:\n",
    "            # Loading metadata (ex. 2020)，之後一次 load 所有年份的資料進來\n",
    "            metadata = pd.read_csv(basepath / \"metadata_\" + y + \".csv\")\n",
    "\n",
    "            metadata['split'] = self.set_split(y)\n",
    "\n",
    "            # Adding traces (ex. 2020)，之後一次 load 所有年份的資料進來\n",
    "            with h5py.File(basepath / \"chunks_\" + y + \".hdf5\") as f:\n",
    "                gdata = f[\"data\"]\n",
    "                for _, row in metadata.iterrows():\n",
    "                    row = row.to_dict()\n",
    "                    \n",
    "                    # Adding trace only when waveform is available\n",
    "                    if row['trace_completeness'] == 1:\n",
    "                        waveforms = gdata[row[\"trace_name\"]][()]\n",
    "    \n",
    "                        writer.add_trace(row, waveforms)\n",
    "                        total_trace += 1\n",
    "            \n",
    "        # Total number of traces\n",
    "        writer.set_total(total_trace)\n",
    "        \n",
    "    @staticmethod\n",
    "    def set_split(year):\n",
    "        if year == '2021':\n",
    "            return 'test'\n",
    "        elif year == '2020':\n",
    "            return \"dev\"\n",
    "        else:\n",
    "            return 'train'\n",
    "        \n",
    "    # ==================================================== #\n",
    "    # TODO: function -> 只選一個 trace 只包含一個事件的 case #\n",
    "    # ==================================================== #\n",
    "    \n",
    "    # ======================================= #\n",
    "    # TODO: 依照 trace_name，去依照事件來 load #\n",
    "    # ======================================= #"
   ]
  },
  {
   "cell_type": "code",
   "execution_count": 3,
   "id": "exotic-wallace",
   "metadata": {},
   "outputs": [],
   "source": [
    "# chunks = [str(y) for y in range(2012,2022)]\n",
    "kwargs={'download_kwargs': {'basepath': '/mnt/nas2/CWBSN_modify_time/seisbench/'}}\n",
    "data = CWBSN(**kwargs)"
   ]
  },
  {
   "cell_type": "markdown",
   "id": "dietary-exhibit",
   "metadata": {},
   "source": [
    "### 測試區"
   ]
  },
  {
   "cell_type": "code",
   "execution_count": 73,
   "id": "comparative-access",
   "metadata": {
    "scrolled": true
   },
   "outputs": [
    {
     "data": {
      "text/plain": [
       "<seisbench.generate.augmentation.AddGap at 0x7f8dbd31ffa0>"
      ]
     },
     "execution_count": 73,
     "metadata": {},
     "output_type": "execute_result"
    }
   ],
   "source": [
    "generator = sbg.GenericGenerator(data)\n",
    "# generator.augmentation(sbg.RandomWindow(windowlen=5000))\n",
    "# generator.augmentation(sbg.Normalize(detrend_axis=-1, amp_norm_axis=-1))\n",
    "generator.augmentation(sbg.ProbabilisticLabeller(label_columns=[\"trace_p_arrival_sample\"], sigma=50, dim=-2))\n",
    "# generator.augmentation(sbg.GaussianNoise())\n",
    "generator.augmentation(sbg.ChannelDropout())\n",
    "generator.augmentation(sbg.AddGap())"
   ]
  },
  {
   "cell_type": "code",
   "execution_count": 74,
   "id": "integral-volume",
   "metadata": {},
   "outputs": [
    {
     "data": {
      "text/plain": [
       "[<matplotlib.lines.Line2D at 0x7f8db8ac91c0>,\n",
       " <matplotlib.lines.Line2D at 0x7f8db8ac9220>]"
      ]
     },
     "execution_count": 74,
     "metadata": {},
     "output_type": "execute_result"
    },
    {
     "data": {
      "image/png": "[encoded data removed]",
      "text/plain": [
       "<Figure size 720x504 with 2 Axes>"
      ]
     },
     "metadata": {
      "needs_background": "light"
     },
     "output_type": "display_data"
    }
   ],
   "source": [
    "sample = generator[3000]\n",
    "fig = plt.figure(figsize=(10, 7))\n",
    "axs = fig.subplots(2, 1)\n",
    "axs[0].plot(sample[\"X\"].T)\n",
    "axs[1].plot(sample[\"y\"].T)"
   ]
  },
  {
   "cell_type": "code",
   "execution_count": 75,
   "id": "rough-metadata",
   "metadata": {},
   "outputs": [],
   "source": [
    "df = pd.read_csv(\"/mnt/nas2/CWBSN_modify_time/seisbench/metadata_2020.csv\")"
   ]
  },
  {
   "cell_type": "code",
   "execution_count": 77,
   "id": "square-walter",
   "metadata": {},
   "outputs": [
    {
     "data": {
      "text/plain": [
       "numpy.int64"
      ]
     },
     "execution_count": 77,
     "metadata": {},
     "output_type": "execute_result"
    }
   ],
   "source": [
    "type(df['trace_completeness'].iloc[0])"
   ]
  },
  {
   "cell_type": "code",
   "execution_count": null,
   "id": "martial-retention",
   "metadata": {},
   "outputs": [],
   "source": []
  }
 ],
 "metadata": {
  "kernelspec": {
   "display_name": "SeisBench",
   "language": "python",
   "name": "seisbench"
  },
  "language_info": {
   "codemirror_mode": {
    "name": "ipython",
    "version": 3
   },
   "file_extension": ".py",
   "mimetype": "text/x-python",
   "name": "python",
   "nbconvert_exporter": "python",
   "pygments_lexer": "ipython3",
   "version": "3.9.0"
  }
 },
 "nbformat": 4,
 "nbformat_minor": 5
}
